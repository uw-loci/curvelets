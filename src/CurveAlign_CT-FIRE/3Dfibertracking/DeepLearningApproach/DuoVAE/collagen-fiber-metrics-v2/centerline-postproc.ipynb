{
 "cells": [
  {
   "cell_type": "code",
   "execution_count": 1,
   "metadata": {},
   "outputs": [],
   "source": [
    "import pandas as pd\n",
    "from glob import glob\n",
    "import math\n",
    "import numpy as np\n",
    "from skimage import io, morphology, img_as_ubyte, img_as_float, filters\n",
    "import os\n",
    "from tqdm.notebook import tqdm\n",
    "from matplotlib import pyplot as plt\n",
    "from shapely.geometry import LineString, MultiPoint\n",
    "from shapely.ops import split\n",
    "from scipy import io as sio\n",
    "from centerline import CenterLine, smooth_mask, iou"
   ]
  },
  {
   "cell_type": "markdown",
   "metadata": {},
   "source": [
    "### Process baselines in batch"
   ]
  },
  {
   "cell_type": "code",
   "execution_count": 2,
   "metadata": {},
   "outputs": [
    {
     "data": {
      "application/vnd.jupyter.widget-view+json": {
       "model_id": "07654ee19a214ab0b39cb4e79b4cf446",
       "version_major": 2,
       "version_minor": 0
      },
      "text/plain": [
       "0it [00:00, ?it/s]"
      ]
     },
     "metadata": {},
     "output_type": "display_data"
    }
   ],
   "source": [
    "### Process a batch of images with ridge detector\n",
    "img_fnames = glob('evaluations/pilot/network_output/resTe/*_I.png')\n",
    "masks_dir = 'evaluations/pilot/ridge_detector'\n",
    "labels_dir = 'annotations/coarse_ridge/labels'\n",
    "os.makedirs(masks_dir, exist_ok=True)\n",
    "# os.makedirs(labels_dir, exist_ok=True)\n",
    "for img_fname in tqdm(img_fnames):\n",
    "    centerline_ridge = CenterLine(associate_image=io.imread(img_fname))\n",
    "    line_dict = centerline_ridge.ridge_detector(config_fname=\"ridge_detector_params.json\")\n",
    "    centerline_ridge = CenterLine(line_dict=line_dict, associate_image=io.imread(img_fname))\n",
    "    img_name = os.path.splitext(img_fname.split(os.sep)[-1])[0]\n",
    "    csv_fname = os.path.join(labels_dir, img_name+'.csv')\n",
    "    masks_fname = os.path.join(masks_dir, img_name+'.tif')\n",
    "    centerline_ridge.export_line_dict(csv_fname)\n",
    "    io.imsave(masks_fname, img_as_ubyte(centerline_ridge.centerline_image), check_contrast=False)"
   ]
  },
  {
   "cell_type": "code",
   "execution_count": 3,
   "metadata": {},
   "outputs": [
    {
     "data": {
      "application/vnd.jupyter.widget-view+json": {
       "model_id": "abb85c1cb99941f58073ea1ba0c6cc09",
       "version_major": 2,
       "version_minor": 0
      },
      "text/plain": [
       "0it [00:00, ?it/s]"
      ]
     },
     "metadata": {},
     "output_type": "display_data"
    }
   ],
   "source": [
    "### Process a batch of mat files produced by ctFIRE\n",
    "mat_fnames = glob('evaluations/pilot/ctFIRE_dir/ctFIREout/*.mat')\n",
    "masks_dir = 'evaluations/pilot/ctFIRE_out'\n",
    "labels_dir = 'evaluations/pilot/ctFIRE_labels'\n",
    "os.makedirs(masks_dir, exist_ok=True)\n",
    "os.makedirs(labels_dir, exist_ok=True)\n",
    "for mat_fname in tqdm(mat_fnames):\n",
    "    centerline_mat = CenterLine()\n",
    "    mat = sio.loadmat(mat_fname)\n",
    "    mat_data = mat['data']\n",
    "    line_dict = centerline_mat.mat_to_lines(mat_data=mat_data)\n",
    "    centerline_mat = CenterLine(line_dict=line_dict, image_size=(256, 256))\n",
    "    img_name = os.path.splitext(mat_fname.split(os.sep)[-1])[0].split('ctFIREout_')[-1]\n",
    "    csv_fname = os.path.join(labels_dir, img_name+'.csv')\n",
    "    masks_fname = os.path.join(masks_dir, img_name+'.tif')\n",
    "    centerline_mat.export_line_dict(csv_fname)\n",
    "    io.imsave(masks_fname, img_as_ubyte(centerline_mat.centerline_image), check_contrast=False)"
   ]
  },
  {
   "cell_type": "code",
   "execution_count": 4,
   "metadata": {},
   "outputs": [],
   "source": [
    "### Process a batch of annotations and generate the masks\n",
    "csv_fnames = glob('annotations/round_2/labels/*.csv')\n",
    "masks_dir = 'annotations/round_2/masks'\n",
    "labels_dir = 'annotations/round_2/labels'\n",
    "os.makedirs(masks_dir, exist_ok=True)\n",
    "os.makedirs(labels_dir, exist_ok=True)\n",
    "for csv_fname in csv_fnames:\n",
    "    centerline_ridge = CenterLine(dataframe=pd.read_csv(csv_fname, index_col=0))\n",
    "    img_name = os.path.splitext(csv_fname.split(os.sep)[-1])[0]\n",
    "    masks_fname = os.path.join(masks_dir, img_name+'.tif')\n",
    "    io.imsave(masks_fname, img_as_ubyte(centerline_ridge.centerline_image), check_contrast=False)"
   ]
  },
  {
   "cell_type": "markdown",
   "metadata": {},
   "source": [
    "### Post-processing"
   ]
  },
  {
   "cell_type": "code",
   "execution_count": 5,
   "metadata": {},
   "outputs": [
    {
     "data": {
      "application/vnd.jupyter.widget-view+json": {
       "model_id": "116b1a745fd446da827d6224f73586b9",
       "version_major": 2,
       "version_minor": 0
      },
      "text/plain": [
       "0it [00:00, ?it/s]"
      ]
     },
     "metadata": {},
     "output_type": "display_data"
    }
   ],
   "source": [
    "### Process a batch of network output\n",
    "raw_nw_fnames = glob('evaluations/pilot/focal_aug_v2/resTe/*_Lpred.png')\n",
    "raw_input_fnames = glob('evaluations/pilot/focal_aug_v2/resTe/*_I.png')\n",
    "masks_dir = 'evaluations/pilot/focal_aug_v2/processed/skeletonize'\n",
    "os.makedirs(masks_dir, exist_ok=True)\n",
    "# os.makedirs(labels_dir, exist_ok=True)\n",
    "for i in tqdm(range(len(raw_input_fnames))):\n",
    "    nw_fname = raw_nw_fnames[i]\n",
    "    input_fname = raw_input_fnames[i]\n",
    "\n",
    "    img = img_as_float( io.imread( nw_fname ))\n",
    "    # binary = img > filters.threshold_otsu((img)) # this is usually not necessary\n",
    "    binary = img\n",
    "\n",
    "    ### vectorization using ridge detector\n",
    "    # centerline_res = CenterLine(associate_image=binary)\n",
    "    # line_dict = centerline_res.ridge_detector(config_fname=\"ridge_detector_params.json\")\n",
    "    # centerline_res = CenterLine(line_dict=line_dict, associate_image=io.imread(input_fname))\n",
    "\n",
    "    ### vectorization using skeletonization\n",
    "    centerline_res = CenterLine(associate_image=binary, draw_from_raw=True)\n",
    "\n",
    "    img_name = os.path.splitext(input_fname.split(os.sep)[-1])[0]\n",
    "    masks_fname = os.path.join(masks_dir, img_name+'.tif')\n",
    "    io.imsave(masks_fname, img_as_ubyte(centerline_res.centerline_image), check_contrast=False)\n",
    "    # io.imsave(masks_fname, img_as_ubyte(image), check_contrast=False)"
   ]
  }
 ],
 "metadata": {
  "kernelspec": {
   "display_name": "Python 3.9.12 ('base')",
   "language": "python",
   "name": "python3"
  },
  "language_info": {
   "codemirror_mode": {
    "name": "ipython",
    "version": 3
   },
   "file_extension": ".py",
   "mimetype": "text/x-python",
   "name": "python",
   "nbconvert_exporter": "python",
   "pygments_lexer": "ipython3",
   "version": "3.9.6"
  },
  "orig_nbformat": 4,
  "vscode": {
   "interpreter": {
    "hash": "baa43ceccdb4ea5c6c1a3fa8033ffdff26ac9ef544a116154becb612d85043fa"
   }
  }
 },
 "nbformat": 4,
 "nbformat_minor": 2
}
