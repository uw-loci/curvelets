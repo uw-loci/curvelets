{
 "cells": [
  {
   "cell_type": "markdown",
   "metadata": {},
   "source": [
    "## Test of Cell Tracking Application"
   ]
  },
  {
   "cell_type": "code",
   "execution_count": 1,
   "metadata": {},
   "outputs": [],
   "source": [
    "from deepcell.applications import NuclearSegmentation, CytoplasmSegmentation, CellTracking\n",
    "from deepcell.datasets import DynamicNuclearNetSample\n",
    "\n",
    "import numpy as np\n",
    "import tifffile\n",
    "import imageio\n",
    "import copy\n",
    "import matplotlib as mpl\n",
    "from matplotlib.colors import ListedColormap\n",
    "import matplotlib.pyplot as plt"
   ]
  },
  {
   "cell_type": "markdown",
   "metadata": {},
   "source": [
    "## Load Data\n",
    "1. Dynamic Nuclear Fluorescence\n",
    "2. Dynamic Collagen and Cytoplasm multichannel"
   ]
  },
  {
   "cell_type": "code",
   "execution_count": 2,
   "metadata": {},
   "outputs": [
    {
     "name": "stdout",
     "output_type": "stream",
     "text": [
      "caliban data shape: (10, 540, 540, 1), prediction shape: (10, 540, 540, 1)\n",
      "collagen data shape: (57, 3, 2, 210, 208)\n"
     ]
    }
   ],
   "source": [
    "x, y, _ = DynamicNuclearNetSample().load_data()\n",
    "cell_data = tifffile.imread('cell_track_data/12.20.17_combo2-cell1.tif')\n",
    "\n",
    "print(f\"caliban data shape: {x.shape}, prediction shape: {y.shape}\")\n",
    "print(f\"collagen data shape: {cell_data.shape}\")"
   ]
  },
  {
   "cell_type": "markdown",
   "metadata": {},
   "source": [
    "### Reshape collagen data\n",
    "\n",
    "DeepCell does not yet work with 3D segmentation, so we must pick one of the three z-slices.\n",
    "\n",
    "We also notice that the shape of DeepCell data is (T, X, Y, C) whereas our data is in (T, Z, C, X, Y) so we must reshape"
   ]
  },
  {
   "cell_type": "code",
   "execution_count": 3,
   "metadata": {},
   "outputs": [
    {
     "name": "stdout",
     "output_type": "stream",
     "text": [
      "after tranposing: (57, 210, 208, 2, 3)\n",
      "single z-slice: (57, 210, 208, 2)\n",
      "collagen shape: (57, 210, 208, 1)\n",
      "cytoplasm shape: (57, 210, 208, 1)\n"
     ]
    }
   ],
   "source": [
    "# Shuffle dimensions\n",
    "cell_data = np.transpose(cell_data, (0,3,4,2,1))\n",
    "print(f'after tranposing: {cell_data.shape}')\n",
    "\n",
    "# Take one z-slice\n",
    "z_pos = 2\n",
    "cell_data = cell_data[..., z_pos]\n",
    "print(f'single z-slice: {cell_data.shape}')\n",
    "\n",
    "# Separate collagen and cytoplasm channel\n",
    "collagen_data = np.expand_dims(cell_data[..., 0], 3)\n",
    "cytoplasm_data = np.expand_dims(cell_data[..., 1], 3)\n",
    "print(f'collagen shape: {collagen_data.shape}\\ncytoplasm shape: {cytoplasm_data.shape}')"
   ]
  },
  {
   "cell_type": "markdown",
   "metadata": {},
   "source": [
    "### Save images as gifs"
   ]
  },
  {
   "cell_type": "code",
   "execution_count": 40,
   "metadata": {},
   "outputs": [],
   "source": [
    "def save_gif(x, filename, title):\n",
    "    # ims = [Image.fromarray(x[i,...,0], 'LA') for i in range(x.shape[0])]\n",
    "    # ims[0].save(filename, save_all=True, \n",
    "    #             append_images=ims[1:],\n",
    "    #             optimize=False, loop=0 )\n",
    "    \n",
    "    def plot(im):\n",
    "        fig, ax = plt.subplots(figsize=(6, 6))\n",
    "        ax.imshow(im, 'Greys_r', vmax=3000)\n",
    "        plt.axis('off')\n",
    "        plt.title(title)\n",
    "\n",
    "        fig.canvas.draw()  # draw the canvas, cache the renderer\n",
    "        image = np.frombuffer(fig.canvas.tostring_rgb(), dtype='uint8')\n",
    "        image = image.reshape(fig.canvas.get_width_height()[::-1] + (3,))\n",
    "\n",
    "        plt.close(fig)\n",
    "\n",
    "        return image\n",
    "\n",
    "    imageio.mimsave(filename, [plot(x[i, ..., 0]) for i in range(x.shape[0])], loop=0)\n",
    "    \n",
    "\n",
    "\n",
    "save_gif(x, 'caliban-raw.gif', 'Caliban')\n",
    "save_gif(cytoplasm_data, f'12.20.17_combo2-cell1-cyto-zpos{z_pos}.gif', 'Cytoplasm')"
   ]
  },
  {
   "cell_type": "markdown",
   "metadata": {},
   "source": [
    "### Display saved \n",
    "\n",
    "<img src=\"caliban-raw.gif\" width=\"300pt\" align=\"center\" loop=\"infinite\">\n",
    "<img src=\"12.20.17_combo2-cell1-cyto-zpos2.gif\" width=\"300pt\" align=\"center\" loop=\"infinite\">"
   ]
  },
  {
   "cell_type": "markdown",
   "metadata": {},
   "source": [
    "## Methods for displaying models"
   ]
  },
  {
   "cell_type": "code",
   "execution_count": 4,
   "metadata": {},
   "outputs": [],
   "source": [
    "def shuffle_colors(ymax, cmap):\n",
    "    \"\"\"Utility function to generate a colormap for a labeled image\"\"\"\n",
    "    cmap = mpl.colormaps[cmap].resampled(ymax)\n",
    "    nmap = cmap(range(ymax))\n",
    "    np.random.shuffle(nmap)\n",
    "    cmap = ListedColormap(nmap)\n",
    "    cmap.set_bad('black')\n",
    "    return cmap"
   ]
  },
  {
   "cell_type": "code",
   "execution_count": 6,
   "metadata": {},
   "outputs": [],
   "source": [
    "def save_with_seg(x, y, filename):\n",
    "    ymax = np.max(y)\n",
    "    cmap = shuffle_colors(ymax, 'tab20')\n",
    "\n",
    "    def plot(x, y):\n",
    "        yy = copy.deepcopy(y)\n",
    "        yy = np.ma.masked_equal(yy, 0)\n",
    "\n",
    "        fig, ax = plt.subplots(1, 2, figsize=(12, 6))\n",
    "        ax[0].imshow(x, cmap='Greys_r', vmax=3000)\n",
    "        ax[0].axis('off')\n",
    "        ax[0].set_title('Raw')\n",
    "        ax[1].imshow(yy, cmap=cmap, vmax=ymax)\n",
    "        ax[1].set_title('Segmented')\n",
    "        ax[1].axis('off')\n",
    "\n",
    "        fig.canvas.draw()  # draw the canvas, cache the renderer\n",
    "        image = np.frombuffer(fig.canvas.tostring_rgb(), dtype='uint8')\n",
    "        image = image.reshape(fig.canvas.get_width_height()[::-1] + (3,))\n",
    "        plt.close(fig)\n",
    "\n",
    "        return image\n",
    "\n",
    "    imageio.mimsave(\n",
    "        filename,\n",
    "        [plot(x[i,...,0], y[i,...,0])\n",
    "        for i in range(y.shape[0])],\n",
    "        loop=0\n",
    "    )\n"
   ]
  },
  {
   "cell_type": "markdown",
   "metadata": {},
   "source": [
    "## Run Segmentation model on data to create masks\n",
    "\n",
    "Before any cell tracking can happen, DeepCell requires masks to be created by its segmentation models.\n",
    "\n",
    "In this section, we will also create stardist and cellpose masks to see if there is any overlap in compatibility."
   ]
  },
  {
   "cell_type": "code",
   "execution_count": 41,
   "metadata": {},
   "outputs": [
    {
     "name": "stderr",
     "output_type": "stream",
     "text": [
      "INFO:root:Checking for cached data\n",
      "INFO:root:Checking NuclearSegmentation-75.tar.gz against provided file_hash...\n",
      "INFO:root:NuclearSegmentation-75.tar.gz with hash efc4881db5bac23219b62486a4d877b3 already available.\n",
      "INFO:root:Extracting C:\\Users\\aarus\\.deepcell\\models\\NuclearSegmentation-75.tar.gz\n",
      "INFO:root:Successfully extracted C:\\Users\\aarus\\.deepcell\\models\\NuclearSegmentation-75.tar.gz into C:\\Users\\aarus\\.deepcell\\models\n"
     ]
    },
    {
     "name": "stdout",
     "output_type": "stream",
     "text": [
      "WARNING:tensorflow:No training configuration found in save file, so the model was *not* compiled. Compile it manually.\n"
     ]
    },
    {
     "name": "stderr",
     "output_type": "stream",
     "text": [
      "WARNING:tensorflow:No training configuration found in save file, so the model was *not* compiled. Compile it manually.\n",
      "INFO:root:Converting image dtype to float\n"
     ]
    },
    {
     "name": "stdout",
     "output_type": "stream",
     "text": [
      "WARNING:tensorflow:No training configuration found in save file, so the model was *not* compiled. Compile it manually.\n"
     ]
    },
    {
     "name": "stderr",
     "output_type": "stream",
     "text": [
      "WARNING:tensorflow:No training configuration found in save file, so the model was *not* compiled. Compile it manually.\n",
      "INFO:root:Converting image dtype to float\n"
     ]
    }
   ],
   "source": [
    "# DeepCell on caliban nuclear\n",
    "deep_nuclear = NuclearSegmentation()\n",
    "y_pred = deep_nuclear.predict(x, image_mpp=0.65)\n",
    "save_with_seg(x, y_pred, 'caliban-segmented.gif')"
   ]
  },
  {
   "cell_type": "code",
   "execution_count": 47,
   "metadata": {},
   "outputs": [
    {
     "name": "stdout",
     "output_type": "stream",
     "text": [
      "WARNING:tensorflow:No training configuration found in save file, so the model was *not* compiled. Compile it manually.\n"
     ]
    },
    {
     "name": "stderr",
     "output_type": "stream",
     "text": [
      "WARNING:tensorflow:No training configuration found in save file, so the model was *not* compiled. Compile it manually.\n",
      "INFO:root:Converting image dtype to float\n"
     ]
    }
   ],
   "source": [
    "# DeepCell on example cytoplasm data\n",
    "deep_cyto = CytoplasmSegmentation()\n",
    "deep_cyto_pred = deep_cyto.predict(cytoplasm_data, image_mpp=0.5)\n",
    "save_with_seg(cytoplasm_data, deep_cyto_pred, '12.20.17_combo2-cell1-cyto-zpos2-segmented.gif')"
   ]
  },
  {
   "cell_type": "code",
   "execution_count": 7,
   "metadata": {},
   "outputs": [
    {
     "name": "stdout",
     "output_type": "stream",
     "text": [
      "Found model '2D_versatile_fluo' for 'StarDist2D'.\n",
      "Loading network weights from 'weights_best.h5'.\n",
      "Loading thresholds from 'thresholds.json'.\n",
      "Using default values: prob_thresh=0.479071, nms_thresh=0.3.\n"
     ]
    }
   ],
   "source": [
    "# Stardist on example cytoplasm data\n",
    "from stardist.models import StarDist2D\n",
    "from csbdeep.utils import normalize\n",
    "\n",
    "sd_model = StarDist2D.from_pretrained('2D_versatile_fluo')\n",
    "labels = [sd_model.predict_instances(normalize(item))[0] for item in cytoplasm_data]\n",
    "sd_predict = np.expand_dims(np.array(labels), 3)\n",
    "save_with_seg(cytoplasm_data, sd_predict, 'stardist_seg.gif')"
   ]
  },
  {
   "cell_type": "code",
   "execution_count": 15,
   "metadata": {},
   "outputs": [],
   "source": [
    "# Cellpose on example cytoplasm data\n",
    "from cellpose import models\n",
    "\n",
    "cyto3 = models.Cellpose(model_type='cyto3')\n",
    "labels = [cyto3.eval(x, channels=[0,0])[0] for x in cytoplasm_data]\n",
    "cellpose_predict = np.expand_dims(np.array(labels), 3)\n",
    "save_with_seg(cytoplasm_data, cellpose_predict, 'cellpose_seg.gif')"
   ]
  },
  {
   "cell_type": "code",
   "execution_count": null,
   "metadata": {},
   "outputs": [],
   "source": []
  }
 ],
 "metadata": {
  "kernelspec": {
   "display_name": "tooleval",
   "language": "python",
   "name": "python3"
  },
  "language_info": {
   "codemirror_mode": {
    "name": "ipython",
    "version": 3
   },
   "file_extension": ".py",
   "mimetype": "text/x-python",
   "name": "python",
   "nbconvert_exporter": "python",
   "pygments_lexer": "ipython3",
   "version": "3.8.18"
  }
 },
 "nbformat": 4,
 "nbformat_minor": 2
}
