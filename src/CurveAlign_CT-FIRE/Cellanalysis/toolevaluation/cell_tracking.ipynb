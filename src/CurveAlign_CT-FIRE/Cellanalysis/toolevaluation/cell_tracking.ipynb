{
 "cells": [
  {
   "cell_type": "markdown",
   "metadata": {},
   "source": [
    "## Test of Cell Tracking Application"
   ]
  },
  {
   "cell_type": "code",
   "execution_count": 1,
   "metadata": {},
   "outputs": [],
   "source": [
    "from deepcell.applications import NuclearSegmentation, CytoplasmSegmentation, CellTracking\n",
    "from deepcell.datasets import DynamicNuclearNetSample\n",
    "from PIL import Image\n",
    "import matplotlib.pyplot as plt\n",
    "import numpy as np"
   ]
  },
  {
   "cell_type": "code",
   "execution_count": 6,
   "metadata": {},
   "outputs": [],
   "source": [
    "x, y, _ = DynamicNuclearNetSample().load_data()\n",
    "def plot(im):\n",
    "    fig, ax = plt.subplots(figsize=(6, 6))\n",
    "    ax.imshow(im, 'Greys_r', vmax=3000)\n",
    "    plt.axis('off')\n",
    "    plt.title('Raw Image Data')\n",
    "\n",
    "    fig.canvas.draw()  # draw the canvas, cache the renderer\n",
    "    image = np.frombuffer(fig.canvas.tostring_rgb(), dtype='uint8')\n",
    "    image = image.reshape(fig.canvas.get_width_height()[::-1] + (3,))\n",
    "\n",
    "    plt.close(fig)\n",
    "\n",
    "    return image\n",
    "caliban = [Image.fromarray(x[i,...,0], 'LA') for i in range(x.shape[0])]\n",
    "caliban[0].save('caliban-raw.gif', save_all=True, \n",
    "                append_images=caliban[1:],\n",
    "                optimize=False, loop=10\n",
    "            )"
   ]
  },
  {
   "cell_type": "markdown",
   "metadata": {},
   "source": [
    "### Display saved \n",
    "\n",
    "<img src=\"caliban-raw.gif\" width=\"300pt\" align=\"center\" loop=\"infinite\">"
   ]
  }
 ],
 "metadata": {
  "kernelspec": {
   "display_name": "tooleval",
   "language": "python",
   "name": "python3"
  },
  "language_info": {
   "codemirror_mode": {
    "name": "ipython",
    "version": 3
   },
   "file_extension": ".py",
   "mimetype": "text/x-python",
   "name": "python",
   "nbconvert_exporter": "python",
   "pygments_lexer": "ipython3",
   "version": "3.8.18"
  }
 },
 "nbformat": 4,
 "nbformat_minor": 2
}
